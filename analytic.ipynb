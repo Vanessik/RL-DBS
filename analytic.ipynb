{
 "cells": [
  {
   "cell_type": "code",
   "execution_count": 1,
   "metadata": {},
   "outputs": [
    {
     "name": "stderr",
     "output_type": "stream",
     "text": [
      "/home/v_skliarova/.local/lib/python3.7/site-packages/tensorflow/python/framework/dtypes.py:516: FutureWarning: Passing (type, 1) or '1type' as a synonym of type is deprecated; in a future version of numpy, it will be understood as (type, (1,)) / '(1,)type'.\n",
      "  _np_qint8 = np.dtype([(\"qint8\", np.int8, 1)])\n",
      "/home/v_skliarova/.local/lib/python3.7/site-packages/tensorflow/python/framework/dtypes.py:517: FutureWarning: Passing (type, 1) or '1type' as a synonym of type is deprecated; in a future version of numpy, it will be understood as (type, (1,)) / '(1,)type'.\n",
      "  _np_quint8 = np.dtype([(\"quint8\", np.uint8, 1)])\n",
      "/home/v_skliarova/.local/lib/python3.7/site-packages/tensorflow/python/framework/dtypes.py:518: FutureWarning: Passing (type, 1) or '1type' as a synonym of type is deprecated; in a future version of numpy, it will be understood as (type, (1,)) / '(1,)type'.\n",
      "  _np_qint16 = np.dtype([(\"qint16\", np.int16, 1)])\n",
      "/home/v_skliarova/.local/lib/python3.7/site-packages/tensorflow/python/framework/dtypes.py:519: FutureWarning: Passing (type, 1) or '1type' as a synonym of type is deprecated; in a future version of numpy, it will be understood as (type, (1,)) / '(1,)type'.\n",
      "  _np_quint16 = np.dtype([(\"quint16\", np.uint16, 1)])\n",
      "/home/v_skliarova/.local/lib/python3.7/site-packages/tensorflow/python/framework/dtypes.py:520: FutureWarning: Passing (type, 1) or '1type' as a synonym of type is deprecated; in a future version of numpy, it will be understood as (type, (1,)) / '(1,)type'.\n",
      "  _np_qint32 = np.dtype([(\"qint32\", np.int32, 1)])\n",
      "/home/v_skliarova/.local/lib/python3.7/site-packages/tensorflow/python/framework/dtypes.py:525: FutureWarning: Passing (type, 1) or '1type' as a synonym of type is deprecated; in a future version of numpy, it will be understood as (type, (1,)) / '(1,)type'.\n",
      "  np_resource = np.dtype([(\"resource\", np.ubyte, 1)])\n",
      "/home/v_skliarova/.local/lib/python3.7/site-packages/tensorboard/compat/tensorflow_stub/dtypes.py:541: FutureWarning: Passing (type, 1) or '1type' as a synonym of type is deprecated; in a future version of numpy, it will be understood as (type, (1,)) / '(1,)type'.\n",
      "  _np_qint8 = np.dtype([(\"qint8\", np.int8, 1)])\n",
      "/home/v_skliarova/.local/lib/python3.7/site-packages/tensorboard/compat/tensorflow_stub/dtypes.py:542: FutureWarning: Passing (type, 1) or '1type' as a synonym of type is deprecated; in a future version of numpy, it will be understood as (type, (1,)) / '(1,)type'.\n",
      "  _np_quint8 = np.dtype([(\"quint8\", np.uint8, 1)])\n",
      "/home/v_skliarova/.local/lib/python3.7/site-packages/tensorboard/compat/tensorflow_stub/dtypes.py:543: FutureWarning: Passing (type, 1) or '1type' as a synonym of type is deprecated; in a future version of numpy, it will be understood as (type, (1,)) / '(1,)type'.\n",
      "  _np_qint16 = np.dtype([(\"qint16\", np.int16, 1)])\n",
      "/home/v_skliarova/.local/lib/python3.7/site-packages/tensorboard/compat/tensorflow_stub/dtypes.py:544: FutureWarning: Passing (type, 1) or '1type' as a synonym of type is deprecated; in a future version of numpy, it will be understood as (type, (1,)) / '(1,)type'.\n",
      "  _np_quint16 = np.dtype([(\"quint16\", np.uint16, 1)])\n",
      "/home/v_skliarova/.local/lib/python3.7/site-packages/tensorboard/compat/tensorflow_stub/dtypes.py:545: FutureWarning: Passing (type, 1) or '1type' as a synonym of type is deprecated; in a future version of numpy, it will be understood as (type, (1,)) / '(1,)type'.\n",
      "  _np_qint32 = np.dtype([(\"qint32\", np.int32, 1)])\n",
      "/home/v_skliarova/.local/lib/python3.7/site-packages/tensorboard/compat/tensorflow_stub/dtypes.py:550: FutureWarning: Passing (type, 1) or '1type' as a synonym of type is deprecated; in a future version of numpy, it will be understood as (type, (1,)) / '(1,)type'.\n",
      "  np_resource = np.dtype([(\"resource\", np.ubyte, 1)])\n"
     ]
    }
   ],
   "source": [
    "import gym\n",
    "import gym_oscillator\n",
    "from gym import error, spaces, utils\n",
    "from gym import Space\n",
    "from gym.utils import seeding\n",
    "from gym_oscillator.envs.osc_env import oscillatorEnv\n",
    "\n",
    "from stable_baselines.common import set_global_seeds\n",
    "from stable_baselines.common.policies import MlpPolicy, MlpLstmPolicy\n",
    "from stable_baselines.common.vec_env import DummyVecEnv,SubprocVecEnv,VecNormalize, VecEnv\n",
    "from stable_baselines import PPO2, ACKTR\n",
    "import numpy as np\n",
    "from gym.spaces import Box\n",
    "import os\n",
    "import numpy as np\n",
    "import oscillator_cpp\n",
    "import yaml\n",
    "from collections import deque\n",
    "import matplotlib.pyplot as plt\n",
    "from tqdm import tqdm"
   ]
  },
  {
   "cell_type": "code",
   "execution_count": 2,
   "metadata": {},
   "outputs": [],
   "source": [
    "from tools.tools import show_statistics, plot_statistics, collect_elites, set_model_env, show_box_plot, convert_to_period"
   ]
  },
  {
   "cell_type": "code",
   "execution_count": 3,
   "metadata": {},
   "outputs": [
    {
     "name": "stdout",
     "output_type": "stream",
     "text": [
      "Box(0.0, 6.2831854820251465, (1,), float32)\n",
      "WARNING:tensorflow:From /home/v_skliarova/.local/lib/python3.7/site-packages/stable_baselines/common/tf_util.py:191: The name tf.ConfigProto is deprecated. Please use tf.compat.v1.ConfigProto instead.\n",
      "\n",
      "WARNING:tensorflow:From /home/v_skliarova/.local/lib/python3.7/site-packages/stable_baselines/common/tf_util.py:200: The name tf.Session is deprecated. Please use tf.compat.v1.Session instead.\n",
      "\n",
      "WARNING:tensorflow:From /home/v_skliarova/.local/lib/python3.7/site-packages/stable_baselines/common/policies.py:116: The name tf.variable_scope is deprecated. Please use tf.compat.v1.variable_scope instead.\n",
      "\n",
      "WARNING:tensorflow:From /home/v_skliarova/.local/lib/python3.7/site-packages/stable_baselines/common/input.py:25: The name tf.placeholder is deprecated. Please use tf.compat.v1.placeholder instead.\n",
      "\n",
      "WARNING:tensorflow:From /home/v_skliarova/.local/lib/python3.7/site-packages/stable_baselines/common/policies.py:561: flatten (from tensorflow.python.layers.core) is deprecated and will be removed in a future version.\n",
      "Instructions for updating:\n",
      "Use keras.layers.flatten instead.\n",
      "WARNING:tensorflow:Entity <bound method Flatten.call of <tensorflow.python.layers.core.Flatten object at 0x7f19419f2390>> could not be transformed and will be executed as-is. Please report this to the AutgoGraph team. When filing the bug, set the verbosity to 10 (on Linux, `export AUTOGRAPH_VERBOSITY=10`) and attach the full output. Cause: converting <bound method Flatten.call of <tensorflow.python.layers.core.Flatten object at 0x7f19419f2390>>: AttributeError: module 'gast' has no attribute 'Index'\n",
      "WARNING: Entity <bound method Flatten.call of <tensorflow.python.layers.core.Flatten object at 0x7f19419f2390>> could not be transformed and will be executed as-is. Please report this to the AutgoGraph team. When filing the bug, set the verbosity to 10 (on Linux, `export AUTOGRAPH_VERBOSITY=10`) and attach the full output. Cause: converting <bound method Flatten.call of <tensorflow.python.layers.core.Flatten object at 0x7f19419f2390>>: AttributeError: module 'gast' has no attribute 'Index'\n",
      "WARNING:tensorflow:From /home/v_skliarova/.local/lib/python3.7/site-packages/stable_baselines/common/tf_layers.py:123: The name tf.get_variable is deprecated. Please use tf.compat.v1.get_variable instead.\n",
      "\n",
      "WARNING:tensorflow:Entity <bound method Flatten.call of <tensorflow.python.layers.core.Flatten object at 0x7f1941904e50>> could not be transformed and will be executed as-is. Please report this to the AutgoGraph team. When filing the bug, set the verbosity to 10 (on Linux, `export AUTOGRAPH_VERBOSITY=10`) and attach the full output. Cause: converting <bound method Flatten.call of <tensorflow.python.layers.core.Flatten object at 0x7f1941904e50>>: AttributeError: module 'gast' has no attribute 'Index'\n",
      "WARNING: Entity <bound method Flatten.call of <tensorflow.python.layers.core.Flatten object at 0x7f1941904e50>> could not be transformed and will be executed as-is. Please report this to the AutgoGraph team. When filing the bug, set the verbosity to 10 (on Linux, `export AUTOGRAPH_VERBOSITY=10`) and attach the full output. Cause: converting <bound method Flatten.call of <tensorflow.python.layers.core.Flatten object at 0x7f1941904e50>>: AttributeError: module 'gast' has no attribute 'Index'\n",
      "WARNING:tensorflow:From /home/v_skliarova/.local/lib/python3.7/site-packages/stable_baselines/acktr/acktr.py:181: The name tf.summary.scalar is deprecated. Please use tf.compat.v1.summary.scalar instead.\n",
      "\n",
      "WARNING:tensorflow:From /home/v_skliarova/.local/lib/python3.7/site-packages/tensorflow/python/ops/math_grad.py:1205: add_dispatch_support.<locals>.wrapper (from tensorflow.python.ops.array_ops) is deprecated and will be removed in a future version.\n",
      "Instructions for updating:\n",
      "Use tf.where in 2.0, which has the same broadcast rule as np.where\n",
      "WARNING:tensorflow:From /home/v_skliarova/.local/lib/python3.7/site-packages/stable_baselines/acktr/acktr.py:223: The name tf.summary.merge_all is deprecated. Please use tf.compat.v1.summary.merge_all instead.\n",
      "\n"
     ]
    }
   ],
   "source": [
    "model, env = set_model_env('configs/config.yml', pretrain=False)"
   ]
  },
  {
   "cell_type": "code",
   "execution_count": 4,
   "metadata": {},
   "outputs": [
    {
     "data": {
      "text/plain": [
       "Box(-1.0, 1.0, (2,), float32)"
      ]
     },
     "execution_count": 4,
     "metadata": {},
     "output_type": "execute_result"
    }
   ],
   "source": [
    "env.action_space"
   ]
  },
  {
   "cell_type": "code",
   "execution_count": 5,
   "metadata": {},
   "outputs": [
    {
     "name": "stderr",
     "output_type": "stream",
     "text": [
      "100%|██████████| 10/10 [00:01<00:00,  6.00it/s]\n"
     ]
    }
   ],
   "source": [
    "normal_vec = collect_elites(model, env, value=0.97,num_samples=10)"
   ]
  },
  {
   "cell_type": "code",
   "execution_count": 6,
   "metadata": {},
   "outputs": [
    {
     "data": {
      "text/plain": [
       "[[array([[0.26703537]], dtype=float32),\n",
       "  -0.9616276383399963,\n",
       "  array([0.9196167, 0.725498 ], dtype=float32)],\n",
       " [array([[0.53407073]], dtype=float32),\n",
       "  -0.9378055191040039,\n",
       "  array([0.9384185 , 0.27443022], dtype=float32)],\n",
       " [array([[0.7225663]], dtype=float32),\n",
       "  -0.9684400391578675,\n",
       "  array([0.85214067, 0.26242962], dtype=float32)],\n",
       " [array([[0.7696902]], dtype=float32),\n",
       "  -0.9506944847106934,\n",
       "  array([0.8901576, 0.5585936], dtype=float32)],\n",
       " [array([[0.95818573]], dtype=float32),\n",
       "  -0.8647598838806152,\n",
       "  array([0.992556  , 0.95678097], dtype=float32)],\n",
       " [array([[1.0524335]], dtype=float32),\n",
       "  -0.8773673629760742,\n",
       "  array([ 0.9716196 , -0.85921663], dtype=float32)],\n",
       " [array([[1.0681415]], dtype=float32),\n",
       "  -0.863364315032959,\n",
       "  array([0.98853505, 0.12775224], dtype=float32)],\n",
       " [array([[1.0838494]], dtype=float32),\n",
       "  -0.9613686394691467,\n",
       "  array([0.8286095, 0.7899383], dtype=float32)],\n",
       " [array([[1.1466813]], dtype=float32),\n",
       "  -0.9108055114746094,\n",
       "  array([0.91866106, 0.9396377 ], dtype=float32)],\n",
       " [array([[1.303761]], dtype=float32),\n",
       "  -0.8916247940063476,\n",
       "  array([ 0.93904024, -0.56923604], dtype=float32)],\n",
       " [array([[1.3665928]], dtype=float32),\n",
       "  -0.9401052236557007,\n",
       "  array([0.84405583, 0.0259921 ], dtype=float32)],\n",
       " [array([[1.3980087]], dtype=float32),\n",
       "  -0.9433820676803589,\n",
       "  array([ 0.83337945, -0.01588036], dtype=float32)],\n",
       " [array([[1.5079645]], dtype=float32),\n",
       "  -0.9357575035095215,\n",
       "  array([ 0.8396426, -0.3206971], dtype=float32)],\n",
       " [array([[1.5550884]], dtype=float32),\n",
       "  -0.9225285720825196,\n",
       "  array([0.868153  , 0.05273221], dtype=float32)],\n",
       " [array([[1.6179202]], dtype=float32),\n",
       "  -0.8880113506317139,\n",
       "  array([ 0.9833981 , -0.40677136], dtype=float32)],\n",
       " [array([[1.6650441]], dtype=float32),\n",
       "  -0.9328497314453125,\n",
       "  array([0.83655053, 0.48901865], dtype=float32)],\n",
       " [array([[1.7435839]], dtype=float32),\n",
       "  -0.9219131517410278,\n",
       "  array([0.8748895 , 0.00415081], dtype=float32)],\n",
       " [array([[1.7749999]], dtype=float32),\n",
       "  -0.9096987152099609,\n",
       "  array([ 0.9832185 , -0.30948132], dtype=float32)],\n",
       " [array([[1.8064158]], dtype=float32),\n",
       "  -0.9147036838531494,\n",
       "  array([ 0.9577125, -0.7676818], dtype=float32)],\n",
       " [array([[1.9320794]], dtype=float32),\n",
       "  -0.9339129400253297,\n",
       "  array([0.8676641, 0.2968583], dtype=float32)],\n",
       " [array([[2.0420353]], dtype=float32),\n",
       "  -0.9451665115356446,\n",
       "  array([0.90042275, 0.6574424 ], dtype=float32)],\n",
       " [array([[2.151991]], dtype=float32),\n",
       "  -0.9579644966125488,\n",
       "  array([ 0.87842035, -0.5967562 ], dtype=float32)],\n",
       " [array([[2.2148228]], dtype=float32),\n",
       "  -0.9636591815948486,\n",
       "  array([ 0.855389  , -0.41015232], dtype=float32)],\n",
       " [array([[2.2619467]], dtype=float32),\n",
       "  -0.9635698628425599,\n",
       "  array([ 0.78814584, -0.41530186], dtype=float32)],\n",
       " [array([[0.45553094]], dtype=float32),\n",
       "  -0.9166915130615234,\n",
       "  array([0.97653115, 0.38760588], dtype=float32)],\n",
       " [array([[0.92676985]], dtype=float32),\n",
       "  -0.9536323642730713,\n",
       "  array([ 0.8661478 , -0.91718453], dtype=float32)],\n",
       " [array([[1.0524335]], dtype=float32),\n",
       "  -0.8900995349884033,\n",
       "  array([0.95559794, 0.60822344], dtype=float32)],\n",
       " [array([[1.1623893]], dtype=float32),\n",
       "  -0.9684783744812012,\n",
       "  array([0.7977525 , 0.31011477], dtype=float32)],\n",
       " [array([[1.2095132]], dtype=float32),\n",
       "  -0.9503843116760254,\n",
       "  array([ 0.8396746 , -0.60345536], dtype=float32)],\n",
       " [array([[1.5393804]], dtype=float32),\n",
       "  -0.8868986129760742,\n",
       "  array([ 0.95968544, -0.00692233], dtype=float32)],\n",
       " [array([[1.6336281]], dtype=float32),\n",
       "  -0.9618550419807435,\n",
       "  array([ 0.7526002 , -0.06862754], dtype=float32)],\n",
       " [array([[1.69646]], dtype=float32),\n",
       "  -0.9599687433242798,\n",
       "  array([0.75034857, 0.444688  ], dtype=float32)],\n",
       " [array([[1.727876]], dtype=float32),\n",
       "  -0.9027025985717774,\n",
       "  array([ 0.98061466, -0.33940986], dtype=float32)],\n",
       " [array([[1.7435839]], dtype=float32),\n",
       "  -0.9091298580169678,\n",
       "  array([ 0.93727595, -0.5421823 ], dtype=float32)],\n",
       " [array([[1.7749999]], dtype=float32),\n",
       "  -0.9286324214935303,\n",
       "  array([0.8521556, 0.5684132], dtype=float32)],\n",
       " [array([[1.8064158]], dtype=float32),\n",
       "  -0.9686586022377014,\n",
       "  array([0.70042944, 0.6330615 ], dtype=float32)],\n",
       " [array([[1.8849556]], dtype=float32),\n",
       "  -0.9468048572540283,\n",
       "  array([0.78181195, 0.28197116], dtype=float32)],\n",
       " [array([[1.9477874]], dtype=float32),\n",
       "  -0.9525347900390625,\n",
       "  array([ 0.7546066, -0.970657 ], dtype=float32)],\n",
       " [array([[2.0106194]], dtype=float32),\n",
       "  -0.9424233055114746,\n",
       "  array([0.92184824, 0.19504736], dtype=float32)],\n",
       " [array([[2.057743]], dtype=float32),\n",
       "  -0.9464690828323364,\n",
       "  array([ 0.82535696, -0.89872867], dtype=float32)],\n",
       " [array([[2.151991]], dtype=float32),\n",
       "  -0.9647862863540649,\n",
       "  array([ 0.6781718, -0.5433048], dtype=float32)],\n",
       " [array([[2.3561945]], dtype=float32),\n",
       "  -0.9690351843833923,\n",
       "  array([ 0.6864109 , -0.19701271], dtype=float32)],\n",
       " [array([[0.58119464]], dtype=float32),\n",
       "  -0.9576820993423462,\n",
       "  array([ 0.8958283, -0.7778618], dtype=float32)],\n",
       " [array([[0.7853982]], dtype=float32),\n",
       "  -0.921325969696045,\n",
       "  array([0.9379094 , 0.05801113], dtype=float32)],\n",
       " [array([[1.6650441]], dtype=float32),\n",
       "  -0.9118766212463378,\n",
       "  array([0.9010011 , 0.23952363], dtype=float32)],\n",
       " [array([[1.7749999]], dtype=float32),\n",
       "  -0.9214003562927247,\n",
       "  array([ 0.88312215, -0.9477381 ], dtype=float32)],\n",
       " [array([[1.8849556]], dtype=float32),\n",
       "  -0.9386274147033692,\n",
       "  array([0.8198852 , 0.09306967], dtype=float32)],\n",
       " [array([[1.9163715]], dtype=float32),\n",
       "  -0.9343114471435547,\n",
       "  array([0.85427076, 0.55518895], dtype=float32)],\n",
       " [array([[1.9634954]], dtype=float32),\n",
       "  -0.9670618748664856,\n",
       "  array([0.68326116, 0.6649132 ], dtype=float32)],\n",
       " [array([[1.9792033]], dtype=float32),\n",
       "  -0.9654158544540405,\n",
       "  array([ 0.68953806, -0.46535105], dtype=float32)],\n",
       " [array([[2.2148228]], dtype=float32),\n",
       "  -0.9609965229034424,\n",
       "  array([0.826865  , 0.61930704], dtype=float32)],\n",
       " [array([[0.07853982]], dtype=float32),\n",
       "  -0.9544503164291381,\n",
       "  array([ 0.95499134, -0.3190775 ], dtype=float32)],\n",
       " [array([[0.40840703]], dtype=float32),\n",
       "  -0.9563839054107666,\n",
       "  array([ 0.91706425, -0.03615692], dtype=float32)],\n",
       " [array([[0.6440265]], dtype=float32),\n",
       "  -0.9403363656997681,\n",
       "  array([0.92299676, 0.1350431 ], dtype=float32)],\n",
       " [array([[0.7696902]], dtype=float32),\n",
       "  -0.9464278411865235,\n",
       "  array([0.898543  , 0.35727197], dtype=float32)],\n",
       " [array([[1.0210177]], dtype=float32),\n",
       "  -0.9107899856567383,\n",
       "  array([ 0.9296482, -0.6557246], dtype=float32)],\n",
       " [array([[1.0524335]], dtype=float32),\n",
       "  -0.9593186235427856,\n",
       "  array([0.8378529, 0.8431067], dtype=float32)],\n",
       " [array([[1.5707964]], dtype=float32),\n",
       "  -0.9016589546203613,\n",
       "  array([ 0.9219559, -0.4119834], dtype=float32)],\n",
       " [array([[1.7907078]], dtype=float32),\n",
       "  -0.9488169717788696,\n",
       "  array([ 0.7783506 , -0.85075456], dtype=float32)],\n",
       " [array([[1.9006636]], dtype=float32),\n",
       "  -0.932718825340271,\n",
       "  array([ 0.99389875, -0.23594223], dtype=float32)],\n",
       " [array([[1.9792033]], dtype=float32),\n",
       "  -0.9372453880310059,\n",
       "  array([ 0.8873469 , -0.32161978], dtype=float32)],\n",
       " [array([[2.073451]], dtype=float32),\n",
       "  -0.94722336769104,\n",
       "  array([0.8404104 , 0.05652368], dtype=float32)],\n",
       " [array([[2.120575]], dtype=float32),\n",
       "  -0.9631060719490051,\n",
       "  array([0.6904827 , 0.75085825], dtype=float32)],\n",
       " [array([[2.1676989]], dtype=float32),\n",
       "  -0.957358546257019,\n",
       "  array([ 0.85094017, -0.28109172], dtype=float32)],\n",
       " [array([[2.1834068]], dtype=float32),\n",
       "  -0.9672323846817017,\n",
       "  array([0.65917087, 0.8784785 ], dtype=float32)],\n",
       " [array([[0.51836276]], dtype=float32),\n",
       "  -0.9562110185623169,\n",
       "  array([ 0.90586305, -0.50650877], dtype=float32)],\n",
       " [array([[1.0838494]], dtype=float32),\n",
       "  -0.9651313877105713,\n",
       "  array([0.8181346 , 0.54332227], dtype=float32)],\n",
       " [array([[1.3823007]], dtype=float32),\n",
       "  -0.876224308013916,\n",
       "  array([ 0.9675905 , -0.14301902], dtype=float32)],\n",
       " [array([[1.4765486]], dtype=float32),\n",
       "  -0.95195472240448,\n",
       "  array([ 0.8030722 , -0.13861655], dtype=float32)],\n",
       " [array([[1.6650441]], dtype=float32),\n",
       "  -0.9632123517990112,\n",
       "  array([ 0.7435768 , -0.49752966], dtype=float32)],\n",
       " [array([[1.69646]], dtype=float32),\n",
       "  -0.9178526306152344,\n",
       "  array([0.88400465, 0.3706331 ], dtype=float32)],\n",
       " [array([[1.7592919]], dtype=float32),\n",
       "  -0.9466198253631591,\n",
       "  array([ 0.7882873 , -0.86676675], dtype=float32)],\n",
       " [array([[1.7749999]], dtype=float32),\n",
       "  -0.9632152009010315,\n",
       "  array([ 0.72736645, -0.5350424 ], dtype=float32)],\n",
       " [array([[1.8692477]], dtype=float32),\n",
       "  -0.9247789335250854,\n",
       "  array([0.90955096, 0.11914302], dtype=float32)],\n",
       " [array([[1.9792033]], dtype=float32),\n",
       "  -0.9462102270126342,\n",
       "  array([ 0.7909109 , -0.10488168], dtype=float32)],\n",
       " [array([[2.136283]], dtype=float32),\n",
       "  -0.9581282186508179,\n",
       "  array([0.7310207 , 0.35175785], dtype=float32)],\n",
       " [array([[2.1834068]], dtype=float32),\n",
       "  -0.9697729015350341,\n",
       "  array([ 0.63963836, -0.14590466], dtype=float32)],\n",
       " [array([[0.2984513]], dtype=float32),\n",
       "  -0.9530160093307495,\n",
       "  array([0.93524116, 0.62928206], dtype=float32)],\n",
       " [array([[0.48694685]], dtype=float32),\n",
       "  -0.9634008240699768,\n",
       "  array([0.89236593, 0.60872614], dtype=float32)],\n",
       " [array([[0.80110615]], dtype=float32),\n",
       "  -0.9575375127792358,\n",
       "  array([0.87197125, 0.5843478 ], dtype=float32)],\n",
       " [array([[0.81681406]], dtype=float32),\n",
       "  -0.8850274658203126,\n",
       "  array([0.98028964, 0.95224977], dtype=float32)],\n",
       " [array([[0.87964594]], dtype=float32),\n",
       "  -0.9068992137908936,\n",
       "  array([ 0.94830614, -0.2924105 ], dtype=float32)],\n",
       " [array([[1.0053097]], dtype=float32),\n",
       "  -0.8722280502319336,\n",
       "  array([ 0.9809502, -0.8097844], dtype=float32)],\n",
       " [array([[1.1309733]], dtype=float32),\n",
       "  -0.9565361213684082,\n",
       "  array([ 0.8349468 , -0.24905258], dtype=float32)],\n",
       " [array([[1.1938052]], dtype=float32),\n",
       "  -0.8726435661315918,\n",
       "  array([ 0.9716825, -0.5198629], dtype=float32)],\n",
       " [array([[1.2252212]], dtype=float32),\n",
       "  -0.8568025493621826,\n",
       "  array([ 0.9954166, -0.7905189], dtype=float32)],\n",
       " [array([[1.2723451]], dtype=float32),\n",
       "  -0.9404888868331909,\n",
       "  array([ 0.8537413 , -0.59529793], dtype=float32)],\n",
       " [array([[1.3194689]], dtype=float32),\n",
       "  -0.9020279026031495,\n",
       "  array([0.9207471 , 0.42935944], dtype=float32)],\n",
       " [array([[1.4451326]], dtype=float32),\n",
       "  -0.95405113697052,\n",
       "  array([ 0.8012656 , -0.05647551], dtype=float32)],\n",
       " [array([[1.680752]], dtype=float32),\n",
       "  -0.9208240127563476,\n",
       "  array([0.8730698, 0.9116254], dtype=float32)],\n",
       " [array([[1.7907078]], dtype=float32),\n",
       "  -0.9454599618911743,\n",
       "  array([ 0.79017407, -0.01932337], dtype=float32)],\n",
       " [array([[1.8849556]], dtype=float32),\n",
       "  -0.9451748132705688,\n",
       "  array([ 0.7888377 , -0.50258476], dtype=float32)],\n",
       " [array([[1.9792033]], dtype=float32),\n",
       "  -0.9385211849212647,\n",
       "  array([ 0.8568397 , -0.99076223], dtype=float32)],\n",
       " [array([[2.0420353]], dtype=float32),\n",
       "  -0.9571721935272217,\n",
       "  array([0.7289089 , 0.62649393], dtype=float32)],\n",
       " [array([[2.089159]], dtype=float32),\n",
       "  -0.9630325102806091,\n",
       "  array([ 0.96363497, -0.05212963], dtype=float32)],\n",
       " [array([[2.2462387]], dtype=float32),\n",
       "  -0.9618500685691833,\n",
       "  array([ 0.7773076 , -0.45310912], dtype=float32)],\n",
       " [array([[0.10995574]], dtype=float32),\n",
       "  -0.9499066400527955,\n",
       "  array([ 0.9604153, -0.8111709], dtype=float32)],\n",
       " [array([[0.43982297]], dtype=float32),\n",
       "  -0.9003625011444092,\n",
       "  array([0.9973377 , 0.73793083], dtype=float32)],\n",
       " [array([[0.62831855]], dtype=float32),\n",
       "  -0.9166184806823731,\n",
       "  array([0.9596485 , 0.14446887], dtype=float32)],\n",
       " [array([[0.6754424]], dtype=float32),\n",
       "  -0.9260069179534912,\n",
       "  array([ 0.9420096 , -0.01574293], dtype=float32)],\n",
       " [array([[0.9424778]], dtype=float32),\n",
       "  -0.8680791759490967,\n",
       "  array([0.98984444, 0.5491787 ], dtype=float32)],\n",
       " [array([[1.0524335]], dtype=float32),\n",
       "  -0.9174907112121582,\n",
       "  array([0.9168082 , 0.42970103], dtype=float32)],\n",
       " [array([[1.1152654]], dtype=float32),\n",
       "  -0.9017728996276856,\n",
       "  array([0.9344939, 0.634085 ], dtype=float32)],\n",
       " [array([[1.2409291]], dtype=float32),\n",
       "  -0.8646507835388184,\n",
       "  array([0.98344594, 0.42302907], dtype=float32)],\n",
       " [array([[1.3823007]], dtype=float32),\n",
       "  -0.92905668258667,\n",
       "  array([ 0.8659783 , -0.11712953], dtype=float32)],\n",
       " [array([[1.5550884]], dtype=float32),\n",
       "  -0.8908133029937744,\n",
       "  array([0.950883  , 0.58466476], dtype=float32)],\n",
       " [array([[1.712168]], dtype=float32),\n",
       "  -0.9245153951644898,\n",
       "  array([ 0.8626908, -0.3092259], dtype=float32)],\n",
       " [array([[1.7592919]], dtype=float32),\n",
       "  -0.9426080465316773,\n",
       "  array([0.80179197, 0.21218655], dtype=float32)],\n",
       " [array([[1.8692477]], dtype=float32),\n",
       "  -0.9243195581436157,\n",
       "  array([ 0.9162744 , -0.67880857], dtype=float32)],\n",
       " [array([[2.0420353]], dtype=float32),\n",
       "  -0.9695938777923584,\n",
       "  array([ 0.6585396, -0.9753481], dtype=float32)],\n",
       " [array([[2.057743]], dtype=float32),\n",
       "  -0.9474471664428711,\n",
       "  array([ 0.9024044, -0.5017587], dtype=float32)],\n",
       " [array([[2.104867]], dtype=float32),\n",
       "  -0.9502403831481934,\n",
       "  array([ 0.8230286 , -0.99336547], dtype=float32)],\n",
       " [array([[2.120575]], dtype=float32),\n",
       "  -0.9541200304031372,\n",
       "  array([0.76721644, 0.9139609 ], dtype=float32)],\n",
       " [array([[2.2148228]], dtype=float32),\n",
       "  -0.9669007897377014,\n",
       "  array([ 0.8784008, -0.4321657], dtype=float32)],\n",
       " [array([[6.1732297]], dtype=float32),\n",
       "  -0.9600059485435486,\n",
       "  array([ 0.96299875, -0.49152982], dtype=float32)],\n",
       " [array([[0.14137167]], dtype=float32),\n",
       "  -0.9277924680709839,\n",
       "  array([ 0.9924361, -0.6978391], dtype=float32)],\n",
       " [array([[0.50265485]], dtype=float32),\n",
       "  -0.9516466569900512,\n",
       "  array([0.9168515, 0.7144879], dtype=float32)],\n",
       " [array([[0.6126106]], dtype=float32),\n",
       "  -0.9171863746643066,\n",
       "  array([0.9604898, 0.3122444], dtype=float32)],\n",
       " [array([[0.92676985]], dtype=float32),\n",
       "  -0.8607399845123291,\n",
       "  array([0.999018 , 0.1701527], dtype=float32)],\n",
       " [array([[0.9424778]], dtype=float32),\n",
       "  -0.9685348677635193,\n",
       "  array([0.82560146, 0.32809588], dtype=float32)],\n",
       " [array([[0.9738937]], dtype=float32),\n",
       "  -0.9464523696899414,\n",
       "  array([0.8757905, 0.7148901], dtype=float32)],\n",
       " [array([[1.0367255]], dtype=float32),\n",
       "  -0.8765357398986816,\n",
       "  array([ 0.9737206 , -0.18594508], dtype=float32)],\n",
       " [array([[1.2409291]], dtype=float32),\n",
       "  -0.9536927890777588,\n",
       "  array([ 0.82807255, -0.33887488], dtype=float32)],\n",
       " [array([[1.2566371]], dtype=float32),\n",
       "  -0.9438221836090088,\n",
       "  array([0.84869856, 0.54496205], dtype=float32)],\n",
       " [array([[1.3194689]], dtype=float32),\n",
       "  -0.9360414361953735,\n",
       "  array([0.8576821, 0.7029578], dtype=float32)],\n",
       " [array([[1.8692477]], dtype=float32),\n",
       "  -0.9452427148818969,\n",
       "  array([0.7885479 , 0.34574306], dtype=float32)],\n",
       " [array([[2.0106194]], dtype=float32),\n",
       "  -0.969212760925293,\n",
       "  array([0.66524297, 0.00088185], dtype=float32)],\n",
       " [array([[2.057743]], dtype=float32),\n",
       "  -0.9462373876571655,\n",
       "  array([0.8847824, 0.5368395], dtype=float32)],\n",
       " [array([[2.104867]], dtype=float32),\n",
       "  -0.9520224237442017,\n",
       "  array([0.78444844, 0.34427804], dtype=float32)],\n",
       " [array([[2.136283]], dtype=float32),\n",
       "  -0.9540821504592896,\n",
       "  array([0.77987915, 0.8112157 ], dtype=float32)],\n",
       " [array([[0.7225663]], dtype=float32),\n",
       "  -0.8916101455688477,\n",
       "  array([0.9809836, 0.8938504], dtype=float32)],\n",
       " [array([[0.9738937]], dtype=float32),\n",
       "  -0.9318815422058105,\n",
       "  array([0.9022816 , 0.49458227], dtype=float32)],\n",
       " [array([[1.0524335]], dtype=float32),\n",
       "  -0.9054248046875,\n",
       "  array([ 0.9346998 , -0.42127272], dtype=float32)],\n",
       " [array([[1.1309733]], dtype=float32),\n",
       "  -0.926189260482788,\n",
       "  array([ 0.895342 , -0.9563602], dtype=float32)],\n",
       " [array([[1.2252212]], dtype=float32),\n",
       "  -0.9613263058662415,\n",
       "  array([ 0.8104051, -0.5226218], dtype=float32)],\n",
       " [array([[1.2409291]], dtype=float32),\n",
       "  -0.9586271572113038,\n",
       "  array([ 0.81586903, -0.05272023], dtype=float32)],\n",
       " [array([[1.2566371]], dtype=float32),\n",
       "  -0.8672695350646973,\n",
       "  array([0.9794754 , 0.08560098], dtype=float32)],\n",
       " [array([[1.3194689]], dtype=float32),\n",
       "  -0.9158675861358643,\n",
       "  array([ 0.89605844, -0.04977932], dtype=float32)],\n",
       " [array([[1.712168]], dtype=float32),\n",
       "  -0.9687710881233216,\n",
       "  array([0.7153535, 0.3471099], dtype=float32)],\n",
       " [array([[1.8064158]], dtype=float32),\n",
       "  -0.9272967576980591,\n",
       "  array([ 0.86220783, -0.456188  ], dtype=float32)],\n",
       " [array([[1.9006636]], dtype=float32),\n",
       "  -0.9290860223770141,\n",
       "  array([0.9644396 , 0.69930285], dtype=float32)],\n",
       " [array([[1.9163715]], dtype=float32),\n",
       "  -0.947044243812561,\n",
       "  array([ 0.7810804, -0.9994182], dtype=float32)],\n",
       " [array([[1.9949113]], dtype=float32),\n",
       "  -0.9391586208343505,\n",
       "  array([0.87294465, 0.530788  ], dtype=float32)],\n",
       " [array([[2.104867]], dtype=float32),\n",
       "  -0.9678585696220398,\n",
       "  array([ 0.6605425 , -0.95353913], dtype=float32)],\n",
       " [array([[6.126106]], dtype=float32),\n",
       "  -0.9519750785827636,\n",
       "  array([0.9841473 , 0.26191273], dtype=float32)],\n",
       " [array([[6.2046456]], dtype=float32),\n",
       "  -0.9584613466262817,\n",
       "  array([0.9629854 , 0.52128136], dtype=float32)],\n",
       " [array([[0.25132743]], dtype=float32),\n",
       "  -0.9218696308135986,\n",
       "  array([ 0.98999816, -0.652742  ], dtype=float32)],\n",
       " [array([[0.36128315]], dtype=float32),\n",
       "  -0.9571684026718139,\n",
       "  array([ 0.9202901 , -0.47564906], dtype=float32)],\n",
       " [array([[0.51836276]], dtype=float32),\n",
       "  -0.9324417495727539,\n",
       "  array([ 0.94851965, -0.15820931], dtype=float32)],\n",
       " [array([[1.303761]], dtype=float32),\n",
       "  -0.9205443000793457,\n",
       "  array([ 0.88910043, -0.7975104 ], dtype=float32)],\n",
       " [array([[1.4922565]], dtype=float32),\n",
       "  -0.9000180625915527,\n",
       "  array([ 0.9212598 , -0.23604707], dtype=float32)],\n",
       " [array([[1.5707964]], dtype=float32),\n",
       "  -0.9020915794372558,\n",
       "  array([0.92062753, 0.44487956], dtype=float32)],\n",
       " [array([[1.680752]], dtype=float32),\n",
       "  -0.9059122657775879,\n",
       "  array([0.9267468 , 0.02368091], dtype=float32)],\n",
       " [array([[1.8535397]], dtype=float32),\n",
       "  -0.9362873077392578,\n",
       "  array([0.82723325, 0.89806354], dtype=float32)],\n",
       " [array([[1.9634954]], dtype=float32),\n",
       "  -0.9583988666534424,\n",
       "  array([0.7253539, 0.7399544], dtype=float32)],\n",
       " [array([[2.0263274]], dtype=float32),\n",
       "  -0.9624206757545472,\n",
       "  array([ 0.6997134, -0.7988425], dtype=float32)],\n",
       " [array([[2.104867]], dtype=float32),\n",
       "  -0.952169132232666,\n",
       "  array([0.78248286, 0.08648954], dtype=float32)],\n",
       " [array([[2.120575]], dtype=float32),\n",
       "  -0.9568138217926025,\n",
       "  array([0.73954344, 0.3146231 ], dtype=float32)],\n",
       " [array([[2.151991]], dtype=float32),\n",
       "  -0.9549211311340332,\n",
       "  array([ 0.78220165, -0.73697335], dtype=float32)],\n",
       " [array([[2.2305307]], dtype=float32),\n",
       "  -0.9606062769889832,\n",
       "  array([0.77954173, 0.9483048 ], dtype=float32)],\n",
       " [array([[6.2046456]], dtype=float32),\n",
       "  -0.9654115843772888,\n",
       "  array([0.94697404, 0.03563733], dtype=float32)]]"
      ]
     },
     "execution_count": 6,
     "metadata": {},
     "output_type": "execute_result"
    }
   ],
   "source": [
    "normal_vec"
   ]
  },
  {
   "cell_type": "code",
   "execution_count": 17,
   "metadata": {},
   "outputs": [],
   "source": [
    "high_a= [5000, 2]\n",
    "low_a = [0, 1]\n",
    "    \n",
    "def denormalize_actions(action, high_a, low_a, i):\n",
    "#         print('denorm', action)\n",
    "    de_act = low_a[i] + (high_a[i]-low_a[i]) * (action+1)/2 \n",
    "#         print('result', de_act)\n",
    "    return int(de_act)"
   ]
  },
  {
   "cell_type": "code",
   "execution_count": 18,
   "metadata": {},
   "outputs": [
    {
     "name": "stdout",
     "output_type": "stream",
     "text": [
      "Statistics for theta interval 0.\n",
      "Number of samples 79\n",
      "Mean reward is -0.9234671396545217 +- 0.03237610933475614\n",
      "Mean width_p is 500 +- 0\n",
      "Mean gap is 4781 +- 144\n",
      "Mean Kfactor is 1.0 +- 0.0\n"
     ]
    }
   ],
   "source": [
    "N = len(normal_vec)\n",
    "obs_cool = np.array([normal_vec[i][0] for i in range(len(normal_vec))]).reshape(N,)\n",
    "rews_cool = np.array([normal_vec[i][1] for i in range(len(normal_vec))]).reshape(N,)\n",
    "good_acs = np.array([normal_vec[i][2] for i in range(len(normal_vec))]).reshape(N,2)  \n",
    "    \n",
    "ps = []\n",
    "ws = []\n",
    "ks = []\n",
    "for i in good_acs:\n",
    "    p = np.array(500)\n",
    "    w = denormalize_actions(np.array(i[0]),high_a, low_a, 0) \n",
    "    k = denormalize_actions(np.array(i[1]),high_a, low_a, 1) \n",
    "    ps.append(p)\n",
    "    ws.append(w)\n",
    "    ks.append(k)\n",
    "ps = np.array(ps).copy()\n",
    "ws = np.array(ws).copy()\n",
    "ks = np.array(ks).copy()\n",
    "\n",
    "theta = [2 * np.pi/400*100*i for i in range(1, 5, 1)]\n",
    "\n",
    "idx0 = np.where((obs_cool > 0) & (obs_cool <= theta[0]))\n",
    "idx1 = np.where((obs_cool > theta[0]) & (obs_cool <= theta[1]))\n",
    "idx2 = np.where((obs_cool > theta[1]) & (obs_cool <= theta[2]))\n",
    "idx3 = np.where(obs_cool > theta[2])\n",
    "interval=0\n",
    "idx = [idx0, idx1, idx2, idx3]\n",
    "int_idx = idx[0]\n",
    "print('Statistics for theta interval {}.'.format(interval))\n",
    "#     if rews_cool[int_idx].shape[0]>0:\n",
    "print('Number of samples', rews_cool[int_idx].shape[0])\n",
    "print('Mean reward is {} +- {}'.format(np.mean(rews_cool[int_idx]), np.std(rews_cool[int_idx])))\n",
    "print('Mean width_p is {} +- {}'.format(int(np.mean(ps[int_idx])), int(np.std(ps[int_idx]))))\n",
    "print('Mean gap is {} +- {}'.format(int(np.mean(ws[int_idx])), int(np.std(ws[int_idx]))))\n",
    "print('Mean Kfactor is {} +- {}'.format(np.mean(ks[int_idx]), np.std(ks[int_idx])))"
   ]
  },
  {
   "cell_type": "code",
   "execution_count": 19,
   "metadata": {},
   "outputs": [
    {
     "data": {
      "text/plain": [
       "41"
      ]
     },
     "execution_count": 19,
     "metadata": {},
     "output_type": "execute_result"
    }
   ],
   "source": [
    "np.argmax(rews_cool[int_idx])"
   ]
  },
  {
   "cell_type": "code",
   "execution_count": 20,
   "metadata": {},
   "outputs": [
    {
     "data": {
      "text/plain": [
       "(500, 4988, 1)"
      ]
     },
     "execution_count": 20,
     "metadata": {},
     "output_type": "execute_result"
    }
   ],
   "source": [
    "ps[int_idx][41], ws[int_idx][41], ks[int_idx][41]"
   ]
  },
  {
   "cell_type": "code",
   "execution_count": 23,
   "metadata": {},
   "outputs": [
    {
     "data": {
      "text/plain": [
       "[<matplotlib.lines.Line2D at 0x7f18fcddd210>]"
      ]
     },
     "execution_count": 23,
     "metadata": {},
     "output_type": "execute_result"
    },
    {
     "data": {
      "image/png": "[encoded data removed]",
      "text/plain": [
       "<Figure size 432x288 with 1 Axes>"
      ]
     },
     "metadata": {
      "needs_background": "light"
     },
     "output_type": "display_data"
    }
   ],
   "source": [
    "plt.plot(ws[int_idx])"
   ]
  },
  {
   "cell_type": "code",
   "execution_count": null,
   "metadata": {},
   "outputs": [],
   "source": []
  },
  {
   "cell_type": "code",
   "execution_count": null,
   "metadata": {},
   "outputs": [],
   "source": []
  },
  {
   "cell_type": "code",
   "execution_count": 7,
   "metadata": {},
   "outputs": [
    {
     "ename": "AttributeError",
     "evalue": "'Box' object has no attribute 'denormalize'",
     "output_type": "error",
     "traceback": [
      "\u001b[0;31m-----------------------------------------------\u001b[0m",
      "\u001b[0;31mAttributeError\u001b[0mTraceback (most recent call last)",
      "\u001b[0;32m<ipython-input-7-1760901d2348>\u001b[0m in \u001b[0;36m<module>\u001b[0;34m\u001b[0m\n\u001b[0;32m----> 1\u001b[0;31m \u001b[0mps\u001b[0m\u001b[0;34m,\u001b[0m \u001b[0mws\u001b[0m\u001b[0;34m,\u001b[0m \u001b[0mks\u001b[0m\u001b[0;34m,\u001b[0m \u001b[0mrs\u001b[0m \u001b[0;34m=\u001b[0m \u001b[0mshow_statistics\u001b[0m\u001b[0;34m(\u001b[0m\u001b[0;36m0\u001b[0m\u001b[0;34m,\u001b[0m \u001b[0mnormal_vec\u001b[0m\u001b[0;34m,\u001b[0m \u001b[0mmodel\u001b[0m\u001b[0;34m,\u001b[0m \u001b[0;32mTrue\u001b[0m\u001b[0;34m)\u001b[0m\u001b[0;34m\u001b[0m\u001b[0;34m\u001b[0m\u001b[0m\n\u001b[0m",
      "\u001b[0;32m~/RL-DBS/one_step/debug2/debug/tools/tools.py\u001b[0m in \u001b[0;36mshow_statistics\u001b[0;34m(interval, normal_vec, model, return_info)\u001b[0m\n\u001b[1;32m    181\u001b[0m     \u001b[0;32mfor\u001b[0m \u001b[0mi\u001b[0m \u001b[0;32min\u001b[0m \u001b[0mgood_acs\u001b[0m\u001b[0;34m:\u001b[0m\u001b[0;34m\u001b[0m\u001b[0;34m\u001b[0m\u001b[0m\n\u001b[1;32m    182\u001b[0m         \u001b[0mp\u001b[0m \u001b[0;34m=\u001b[0m \u001b[0mnp\u001b[0m\u001b[0;34m.\u001b[0m\u001b[0marray\u001b[0m\u001b[0;34m(\u001b[0m\u001b[0;36m500\u001b[0m\u001b[0;34m)\u001b[0m\u001b[0;34m\u001b[0m\u001b[0;34m\u001b[0m\u001b[0m\n\u001b[0;32m--> 183\u001b[0;31m         \u001b[0mw\u001b[0m \u001b[0;34m=\u001b[0m \u001b[0mmodel\u001b[0m\u001b[0;34m.\u001b[0m\u001b[0menv\u001b[0m\u001b[0;34m.\u001b[0m\u001b[0maction_space\u001b[0m\u001b[0;34m.\u001b[0m\u001b[0mdenormalize\u001b[0m\u001b[0;34m(\u001b[0m\u001b[0mnp\u001b[0m\u001b[0;34m.\u001b[0m\u001b[0marray\u001b[0m\u001b[0;34m(\u001b[0m\u001b[0mi\u001b[0m\u001b[0;34m[\u001b[0m\u001b[0;36m0\u001b[0m\u001b[0;34m]\u001b[0m\u001b[0;34m)\u001b[0m\u001b[0;34m,\u001b[0m \u001b[0;36m0\u001b[0m\u001b[0;34m)\u001b[0m\u001b[0;34m\u001b[0m\u001b[0;34m\u001b[0m\u001b[0m\n\u001b[0m\u001b[1;32m    184\u001b[0m         \u001b[0mk\u001b[0m \u001b[0;34m=\u001b[0m \u001b[0mmodel\u001b[0m\u001b[0;34m.\u001b[0m\u001b[0menv\u001b[0m\u001b[0;34m.\u001b[0m\u001b[0maction_space\u001b[0m\u001b[0;34m.\u001b[0m\u001b[0mdenormalize\u001b[0m\u001b[0;34m(\u001b[0m\u001b[0mnp\u001b[0m\u001b[0;34m.\u001b[0m\u001b[0marray\u001b[0m\u001b[0;34m(\u001b[0m\u001b[0mi\u001b[0m\u001b[0;34m[\u001b[0m\u001b[0;36m1\u001b[0m\u001b[0;34m]\u001b[0m\u001b[0;34m)\u001b[0m\u001b[0;34m,\u001b[0m \u001b[0;36m1\u001b[0m\u001b[0;34m)\u001b[0m\u001b[0;34m\u001b[0m\u001b[0;34m\u001b[0m\u001b[0m\n\u001b[1;32m    185\u001b[0m         \u001b[0mps\u001b[0m\u001b[0;34m.\u001b[0m\u001b[0mappend\u001b[0m\u001b[0;34m(\u001b[0m\u001b[0mp\u001b[0m\u001b[0;34m)\u001b[0m\u001b[0;34m\u001b[0m\u001b[0;34m\u001b[0m\u001b[0m\n",
      "\u001b[0;31mAttributeError\u001b[0m: 'Box' object has no attribute 'denormalize'"
     ]
    }
   ],
   "source": [
    "ps, ws, ks, rs = show_statistics(0, normal_vec, model, True)"
   ]
  },
  {
   "cell_type": "code",
   "execution_count": 6,
   "metadata": {},
   "outputs": [
    {
     "data": {
      "text/plain": [
       "[<matplotlib.lines.Line2D at 0x7f57a8595c50>]"
      ]
     },
     "execution_count": 6,
     "metadata": {},
     "output_type": "execute_result"
    },
    {
     "data": {
      "image/png": "[encoded data removed]",
      "text/plain": [
       "<Figure size 432x288 with 1 Axes>"
      ]
     },
     "metadata": {
      "needs_background": "light"
     },
     "output_type": "display_data"
    }
   ],
   "source": [
    "plt.plot(rs)"
   ]
  },
  {
   "cell_type": "code",
   "execution_count": 10,
   "metadata": {},
   "outputs": [
    {
     "data": {
      "text/plain": [
       "(array([3.957e+03, 0.000e+00, 3.300e+02, 0.000e+00, 0.000e+00, 1.140e+02,\n",
       "        0.000e+00, 2.200e+01, 0.000e+00, 2.000e+00]),\n",
       " array([5. , 5.4, 5.8, 6.2, 6.6, 7. , 7.4, 7.8, 8.2, 8.6, 9. ]),\n",
       " <BarContainer object of 10 artists>)"
      ]
     },
     "execution_count": 10,
     "metadata": {},
     "output_type": "execute_result"
    },
    {
     "data": {
      "image/png": "[encoded data removed]",
      "text/plain": [
       "<Figure size 432x288 with 1 Axes>"
      ]
     },
     "metadata": {
      "needs_background": "light"
     },
     "output_type": "display_data"
    }
   ],
   "source": [
    "plt.hist(ks)"
   ]
  },
  {
   "cell_type": "code",
   "execution_count": 11,
   "metadata": {},
   "outputs": [],
   "source": [
    "from tools.tools import convert_to_period"
   ]
  },
  {
   "cell_type": "code",
   "execution_count": 31,
   "metadata": {},
   "outputs": [
    {
     "data": {
      "text/plain": [
       "418.6666666666667"
      ]
     },
     "execution_count": 31,
     "metadata": {},
     "output_type": "execute_result"
    }
   ],
   "source": [
    "6280/15"
   ]
  },
  {
   "cell_type": "code",
   "execution_count": 25,
   "metadata": {},
   "outputs": [
    {
     "data": {
      "text/plain": [
       "89"
      ]
     },
     "execution_count": 25,
     "metadata": {},
     "output_type": "execute_result"
    }
   ],
   "source": [
    "ps[560]"
   ]
  },
  {
   "cell_type": "code",
   "execution_count": 26,
   "metadata": {},
   "outputs": [
    {
     "data": {
      "text/plain": [
       "0.04997465213085514"
      ]
     },
     "execution_count": 26,
     "metadata": {},
     "output_type": "execute_result"
    }
   ],
   "source": [
    "convert_to_period(314)"
   ]
  },
  {
   "cell_type": "code",
   "execution_count": 9,
   "metadata": {},
   "outputs": [
    {
     "data": {
      "image/png": "[encoded data removed]",
      "text/plain": [
       "<Figure size 432x288 with 1 Axes>"
      ]
     },
     "metadata": {
      "needs_background": "light"
     },
     "output_type": "display_data"
    },
    {
     "data": {
      "image/png": "[encoded data removed]",
      "text/plain": [
       "<Figure size 432x288 with 1 Axes>"
      ]
     },
     "metadata": {
      "needs_background": "light"
     },
     "output_type": "display_data"
    }
   ],
   "source": [
    "show_box_plot(ps, 'Width_p')\n",
    "show_box_plot(ks, 'Gap')"
   ]
  },
  {
   "cell_type": "code",
   "execution_count": null,
   "metadata": {},
   "outputs": [],
   "source": []
  }
 ],
 "metadata": {
  "kernelspec": {
   "display_name": "Python 3",
   "language": "python",
   "name": "python3"
  },
  "language_info": {
   "codemirror_mode": {
    "name": "ipython",
    "version": 3
   },
   "file_extension": ".py",
   "mimetype": "text/x-python",
   "name": "python",
   "nbconvert_exporter": "python",
   "pygments_lexer": "ipython3",
   "version": "3.7.9"
  }
 },
 "nbformat": 4,
 "nbformat_minor": 4
}
